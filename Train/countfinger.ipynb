{
 "cells": [
  {
   "cell_type": "code",
   "execution_count": 15,
   "metadata": {},
   "outputs": [],
   "source": [
    "import tensorflow as tf\n",
    "from tensorflow.keras.models import Sequential\n",
    "from tensorflow.keras.layers import Conv2D, MaxPooling2D, Flatten, Dense, Dropout\n",
    "from tensorflow.keras.preprocessing.image import ImageDataGenerator\n",
    "import matplotlib.pyplot as plt\n"
   ]
  },
  {
   "cell_type": "code",
   "execution_count": 16,
   "metadata": {},
   "outputs": [
    {
     "name": "stdout",
     "output_type": "stream",
     "text": [
      "Found 1345 images belonging to 5 classes.\n",
      "Found 379 images belonging to 5 classes.\n"
     ]
    }
   ],
   "source": [
    "train_datagen = ImageDataGenerator(rescale=1./255, rotation_range=30, width_shift_range=0.2,\n",
    "                                   height_shift_range=0.2, shear_range=0.2, zoom_range=0.2, horizontal_flip=True)\n",
    "\n",
    "validation_datagen = ImageDataGenerator(rescale=1./255)\n",
    "\n",
    "train_generator = train_datagen.flow_from_directory(\n",
    "    './Data_Count_Finger/Train',\n",
    "    target_size=(224, 224),\n",
    "    batch_size=32,\n",
    "    class_mode='categorical'\n",
    ")\n",
    "\n",
    "validation_generator = validation_datagen.flow_from_directory(\n",
    "    './Data_Count_Finger/Test',\n",
    "    target_size=(224, 224),\n",
    "    batch_size=32,\n",
    "    class_mode='categorical'\n",
    ")\n"
   ]
  },
  {
   "cell_type": "code",
   "execution_count": 17,
   "metadata": {},
   "outputs": [
    {
     "name": "stdout",
     "output_type": "stream",
     "text": [
      "Model: \"sequential_2\"\n",
      "_________________________________________________________________\n",
      " Layer (type)                Output Shape              Param #   \n",
      "=================================================================\n",
      " conv2d_9 (Conv2D)           (None, 221, 221, 32)      1568      \n",
      "                                                                 \n",
      " max_pooling2d_9 (MaxPoolin  (None, 110, 110, 32)      0         \n",
      " g2D)                                                            \n",
      "                                                                 \n",
      " conv2d_10 (Conv2D)          (None, 107, 107, 64)      32832     \n",
      "                                                                 \n",
      " max_pooling2d_10 (MaxPooli  (None, 53, 53, 64)        0         \n",
      " ng2D)                                                           \n",
      "                                                                 \n",
      " conv2d_11 (Conv2D)          (None, 50, 50, 128)       131200    \n",
      "                                                                 \n",
      " max_pooling2d_11 (MaxPooli  (None, 25, 25, 128)       0         \n",
      " ng2D)                                                           \n",
      "                                                                 \n",
      " flatten_3 (Flatten)         (None, 80000)             0         \n",
      "                                                                 \n",
      " dense_7 (Dense)             (None, 256)               20480256  \n",
      "                                                                 \n",
      " dense_8 (Dense)             (None, 128)               32896     \n",
      "                                                                 \n",
      " dense_9 (Dense)             (None, 64)                8256      \n",
      "                                                                 \n",
      " dense_10 (Dense)            (None, 5)                 325       \n",
      "                                                                 \n",
      "=================================================================\n",
      "Total params: 20687333 (78.92 MB)\n",
      "Trainable params: 20687333 (78.92 MB)\n",
      "Non-trainable params: 0 (0.00 Byte)\n",
      "_________________________________________________________________\n"
     ]
    }
   ],
   "source": [
    "model = Sequential([\n",
    "    Conv2D(32, (4, 4), activation='elu', input_shape=(224, 224, 3)),\n",
    "    MaxPooling2D((2, 2)),\n",
    "    Conv2D(64, (4, 4), activation='elu'),\n",
    "    MaxPooling2D((2, 2)),\n",
    "    Conv2D(128, (4, 4), activation='elu'),\n",
    "    MaxPooling2D((2, 2)),\n",
    "    Flatten(),\n",
    "    Dense(256, activation='elu'),\n",
    "    Dense(128, activation='elu'),\n",
    "    Dense(64, activation='elu'),  # Adding another dense layer\n",
    "    Dense(5, activation='softmax')\n",
    "])\n",
    "\n",
    "model.compile(optimizer='adam', loss='categorical_crossentropy', metrics=['accuracy'])\n",
    "model.summary()"
   ]
  },
  {
   "cell_type": "code",
   "execution_count": 18,
   "metadata": {},
   "outputs": [
    {
     "name": "stdout",
     "output_type": "stream",
     "text": [
      "Epoch 1/50\n",
      "42/42 [==============================] - 72s 2s/step - loss: 3.8511 - accuracy: 0.2620 - val_loss: 1.6888 - val_accuracy: 0.2301\n",
      "Epoch 2/50\n",
      "42/42 [==============================] - 67s 2s/step - loss: 1.4742 - accuracy: 0.3549 - val_loss: 1.4220 - val_accuracy: 0.2812\n",
      "Epoch 3/50\n",
      "42/42 [==============================] - 61s 1s/step - loss: 1.2959 - accuracy: 0.3915 - val_loss: 1.0245 - val_accuracy: 0.4830\n",
      "Epoch 4/50\n",
      "42/42 [==============================] - 68s 2s/step - loss: 1.2142 - accuracy: 0.4196 - val_loss: 1.0654 - val_accuracy: 0.4915\n",
      "Epoch 5/50\n",
      "42/42 [==============================] - 48s 1s/step - loss: 1.0529 - accuracy: 0.4806 - val_loss: 0.9824 - val_accuracy: 0.4205\n",
      "Epoch 6/50\n",
      "42/42 [==============================] - 53s 1s/step - loss: 1.0179 - accuracy: 0.5065 - val_loss: 0.7210 - val_accuracy: 0.7443\n",
      "Epoch 7/50\n",
      "42/42 [==============================] - 50s 1s/step - loss: 1.0100 - accuracy: 0.5004 - val_loss: 1.1485 - val_accuracy: 0.5739\n",
      "Epoch 8/50\n",
      "42/42 [==============================] - 52s 1s/step - loss: 0.9844 - accuracy: 0.5598 - val_loss: 0.9598 - val_accuracy: 0.5483\n",
      "Epoch 9/50\n",
      "42/42 [==============================] - 52s 1s/step - loss: 1.5828 - accuracy: 0.3861 - val_loss: 1.8774 - val_accuracy: 0.3182\n",
      "Epoch 10/50\n",
      "38/42 [==========================>...] - ETA: 4s - loss: 1.0881 - accuracy: 0.4684"
     ]
    }
   ],
   "source": [
    "history = model.fit(\n",
    "    train_generator,\n",
    "    steps_per_epoch=train_generator.samples // train_generator.batch_size,\n",
    "    validation_data=validation_generator,\n",
    "    validation_steps=validation_generator.samples // validation_generator.batch_size,\n",
    "    epochs=50,\n",
    ")\n"
   ]
  },
  {
   "cell_type": "code",
   "execution_count": 14,
   "metadata": {},
   "outputs": [
    {
     "name": "stdout",
     "output_type": "stream",
     "text": [
      "12/12 [==============================] - 2s 179ms/step - loss: 0.1404 - accuracy: 0.9578\n",
      "Validation Loss: 0.14039625227451324\n",
      "Validation Accuracy: 0.9577836394309998\n"
     ]
    }
   ],
   "source": [
    "# Đánh giá model trên tập validation\n",
    "loss, accuracy = model.evaluate(validation_generator)\n",
    "print(f\"Validation Loss: {loss}\")\n",
    "print(f\"Validation Accuracy: {accuracy}\")\n",
    "\n",
    "# Lưu model\n",
    "model.save('finger_counting_model.h5')\n"
   ]
  }
 ],
 "metadata": {
  "kernelspec": {
   "display_name": "Python 3",
   "language": "python",
   "name": "python3"
  },
  "language_info": {
   "codemirror_mode": {
    "name": "ipython",
    "version": 3
   },
   "file_extension": ".py",
   "mimetype": "text/x-python",
   "name": "python",
   "nbconvert_exporter": "python",
   "pygments_lexer": "ipython3",
   "version": "3.10.10"
  }
 },
 "nbformat": 4,
 "nbformat_minor": 2
}
